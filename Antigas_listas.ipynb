{
  "nbformat": 4,
  "nbformat_minor": 0,
  "metadata": {
    "colab": {
      "provenance": [],
      "authorship_tag": "ABX9TyMxsBPXk4HRRgPnAAKu8Ios",
      "include_colab_link": true
    },
    "kernelspec": {
      "name": "python3",
      "display_name": "Python 3"
    },
    "language_info": {
      "name": "python"
    }
  },
  "cells": [
    {
      "cell_type": "markdown",
      "metadata": {
        "id": "view-in-github",
        "colab_type": "text"
      },
      "source": [
        "<a href=\"https://colab.research.google.com/github/VitorGomesder4/exercisesPy/blob/main/Antigas_listas.ipynb\" target=\"_parent\"><img src=\"https://colab.research.google.com/assets/colab-badge.svg\" alt=\"Open In Colab\"/></a>"
      ]
    },
    {
      "cell_type": "markdown",
      "source": [
        "**Listas antigas** _ Engenharia de Software\n",
        "_ N1\n",
        "\n",
        "Nome: Vitor Gomes Araújo"
      ],
      "metadata": {
        "id": "gx1eOQhFsr2T"
      }
    },
    {
      "cell_type": "markdown",
      "source": [
        "**Lista 1**"
      ],
      "metadata": {
        "id": "V67qlb_XkBIs"
      }
    },
    {
      "cell_type": "markdown",
      "source": [
        "================================================================================"
      ],
      "metadata": {
        "id": "T5cXZRdHmcGy"
      }
    },
    {
      "cell_type": "code",
      "execution_count": null,
      "metadata": {
        "colab": {
          "base_uri": "https://localhost:8080/"
        },
        "id": "bsiDlWYkjH2u",
        "outputId": "e5ffd748-72e6-465e-cb29-9dbf104c88cf"
      },
      "outputs": [
        {
          "output_type": "stream",
          "name": "stdout",
          "text": [
            "Meu primeiro programa!\n"
          ]
        }
      ],
      "source": [
        "#1. Escreva um programa que apresente na tela a frase:\n",
        "#\"Meu primeiro programa!!!\"\n",
        "print(\"Meu primeiro programa!\")"
      ]
    },
    {
      "cell_type": "code",
      "source": [
        "#2. Escreva um programa que solicite ao usuário\n",
        "#um número inteiro e ao final apresente na tela\n",
        "#o número informado pelo usuário do programa.\n",
        "numero_int=(input(\"Informe um número inteiro: \"))\n",
        "print(\"O número inteiro é: \", numero_int)"
      ],
      "metadata": {
        "colab": {
          "base_uri": "https://localhost:8080/"
        },
        "id": "vNs5722ojy_E",
        "outputId": "7771e60c-4ba1-4511-bab0-76a01d3e56d5"
      },
      "execution_count": null,
      "outputs": [
        {
          "output_type": "stream",
          "name": "stdout",
          "text": [
            "Informe um número inteiro: 10\n",
            "O número inteiro é:  10\n"
          ]
        }
      ]
    },
    {
      "cell_type": "code",
      "source": [
        "#3. Escreva um programa que solicite ao usuário um número inteiro e ao\n",
        "#final apresente na telao número informado da seguinte forma: \"Foi informado o valor: X\"\n",
        "num_int_usuario = int(input(\"Digite um numero inteiro  \"))\n",
        "print(\"Foi informado o valor: {}\".format(num_int_usuario))"
      ],
      "metadata": {
        "colab": {
          "base_uri": "https://localhost:8080/"
        },
        "id": "HdPCGmU0jzbE",
        "outputId": "b48ec8ab-5d28-4583-b016-44b2ef10d1d3"
      },
      "execution_count": null,
      "outputs": [
        {
          "output_type": "stream",
          "name": "stdout",
          "text": [
            "Digite um numero inteiro  10\n",
            "Foi informado o valor: 10\n"
          ]
        }
      ]
    },
    {
      "cell_type": "code",
      "source": [
        "#4. Escreva um programa que solicite ao usuário dois números inteiros e ao final apresente na\n",
        "#tela os dois números informados da seguinte forma: \"Voce informou os numeros X e Y\"\n",
        "num_int_1 = int(input(\"Digite um numero inteiro  \"))\n",
        "num_int_2 = int(input(\"Digite um numero inteiro  \"))\n",
        "print(\"Voce informou os numeros {}\".format(num_int_1, num_int_2))"
      ],
      "metadata": {
        "colab": {
          "base_uri": "https://localhost:8080/"
        },
        "id": "0_CCU20Xj_rt",
        "outputId": "44026b6c-e897-48d9-fef5-02283689f4c5"
      },
      "execution_count": null,
      "outputs": [
        {
          "output_type": "stream",
          "name": "stdout",
          "text": [
            "Digite um numero inteiro10\n",
            "Digite um numero inteiro20\n",
            "Voce informou os numeros 10\n"
          ]
        }
      ]
    },
    {
      "cell_type": "code",
      "source": [
        "#5. Escreva um programa que solicite ao usuário um número real e ao final apresente na tela o número informado\n",
        "#formatado com duas casas decimais da seguinte forma: \"Voce informou o numero X.YY\"\n",
        "numero_real = float(input(\"Digite um numero real  \"))\n",
        "print(\"Voce informou o numero  {:.2f}\".format(numero_real))"
      ],
      "metadata": {
        "colab": {
          "base_uri": "https://localhost:8080/"
        },
        "id": "SrK6K9MRkITJ",
        "outputId": "7f6545d9-6154-4c03-8996-a51e9db577d8"
      },
      "execution_count": null,
      "outputs": [
        {
          "output_type": "stream",
          "name": "stdout",
          "text": [
            "Digite um numero real  2.5\n",
            "Voce informou o numero  2.50\n"
          ]
        }
      ]
    },
    {
      "cell_type": "code",
      "source": [
        "#6.Escreva um programa que solicite ao usuário a temperatura em graus Celsius e ao final apresente a\n",
        "#temperatura correspondente em graus Farenheit. F = Celsius * 1.8 + 32\n",
        "graus_celsius_client = float(input(\"Digite a temperatura em celsius  \"))\n",
        "fahr = float(graus_celsius_client * 1.8 + 32)\n",
        "print(\"{:.0f}\".format(fahr))"
      ],
      "metadata": {
        "colab": {
          "base_uri": "https://localhost:8080/"
        },
        "id": "kYBfROMvkLg5",
        "outputId": "2b88edc0-cc27-4c8b-8a84-646eebdafb4b"
      },
      "execution_count": null,
      "outputs": [
        {
          "output_type": "stream",
          "name": "stdout",
          "text": [
            "Digite a temperatura em celsius  68\n",
            "154\n"
          ]
        }
      ]
    },
    {
      "cell_type": "code",
      "source": [
        "#7. Escreva um programa que solicite ao usuário um número inteiro e um número real e ao final apresente na\n",
        "#tela os dois números informados formatando com duas casas\n",
        "#decimais somente o número real da seguinte forma: \"Voce informou os numeros N e X.YY\"\n",
        "num_inteiro = int(input(\"Digite um numero inteiro  \"))\n",
        "num_real = float(input(\"Digite um numero real  \"))\n",
        "print(\"Voce informou os numeros {} e {:.2f}\".format(num_inteiro, num_real))"
      ],
      "metadata": {
        "colab": {
          "base_uri": "https://localhost:8080/"
        },
        "id": "6zjNwTE3kOZ9",
        "outputId": "a8343c7c-2910-4b5a-f660-90883e7b90bf"
      },
      "execution_count": null,
      "outputs": [
        {
          "output_type": "stream",
          "name": "stdout",
          "text": [
            "Digite um numero inteiro  20\n",
            "Digite um numero real  4.5\n",
            "Voce informou os numeros 20 e 4.50\n"
          ]
        }
      ]
    },
    {
      "cell_type": "code",
      "source": [
        "#8. Escreva um programa que solicite ao usuário a primeira letra de seu nome e ao final apresente na tela a\n",
        "#letra informada pelo usuário da seguinte forma: \"Voce digitou w\"\n",
        "primeira_inicial_client = input(\"Digite a inicial do seu nome  \")\n",
        "print(\"Voce digitou  {}\".format(primeira_inicial_client))"
      ],
      "metadata": {
        "colab": {
          "base_uri": "https://localhost:8080/"
        },
        "id": "KNellGKikQVW",
        "outputId": "24de5822-c6f7-4a32-f0d3-bf18c1109591"
      },
      "execution_count": null,
      "outputs": [
        {
          "output_type": "stream",
          "name": "stdout",
          "text": [
            "Digite a inicial do seu nome  V\n",
            "Voce digitou  V\n"
          ]
        }
      ]
    },
    {
      "cell_type": "code",
      "source": [
        "#9. Escreva um programa que solicite ao usuário o nome de sua\n",
        "#cor preferida e ao final apresente na tela a cor\n",
        "#informada pelo usuário da seguinte forma: \"Voce gosta da cor AAA\"\n",
        "cor_preferida_client = input(\"Digite sua cor favorita  \")\n",
        "print(\"Voce gosta da cor {}\".format(cor_preferida_client))"
      ],
      "metadata": {
        "colab": {
          "base_uri": "https://localhost:8080/"
        },
        "id": "lPx5T1LgkTjT",
        "outputId": "a4e92c5b-5078-4553-e29c-bd6652c6cb82"
      },
      "execution_count": null,
      "outputs": [
        {
          "output_type": "stream",
          "name": "stdout",
          "text": [
            "Digite sua cor favorita  azul\n",
            "Voce gosta da cor azul\n"
          ]
        }
      ]
    },
    {
      "cell_type": "code",
      "source": [
        "#10. Escreva um programa que solicite ao usuário o nome de uma verdura e uma fruta de\n",
        "#sua preferencia e ao final apresente na tela as informações digitadas pelo\n",
        "#usuário da seguinte forma: \"Voce gosta de AAAAAAA e BBBBBBB\"\n",
        "verdura_client = input(\"Digite sua verdura de preferencia  \")\n",
        "fruta_client = input(\"Digite sua fruta de preferencia  \")\n",
        "print(\"Voce gosta de {} e {}\".format(verdura_client, fruta_client))"
      ],
      "metadata": {
        "colab": {
          "base_uri": "https://localhost:8080/"
        },
        "id": "FZDolF1ikWBO",
        "outputId": "2f154f0f-5275-4504-8469-510d179e3bda"
      },
      "execution_count": null,
      "outputs": [
        {
          "output_type": "stream",
          "name": "stdout",
          "text": [
            "Digite sua verdura de preferencia  cenoura\n",
            "Digite sua fruta de preferencia  maça\n",
            "Voce gosta de cenoura e maça\n"
          ]
        }
      ]
    },
    {
      "cell_type": "code",
      "source": [
        "#11. Elabore um algoritmo que solicite ao usuário um número real e ao final imprima na\n",
        "#tela o numero informado e na linha de baixo o dobro deste número\n",
        "#da seguinte forma: Numero -> X Dobro deste numero -> Y\n",
        "numero_real_client = float((input(\"Digite um numero real  \")))\n",
        "dobro_real_client = float(numero_real_client * 2)\n",
        "print(\"Numero -> {:.2f} \".format(numero_real_client))\n",
        "print(\"Dobro deste numero -> {:.2f}\".format(dobro_real_client))"
      ],
      "metadata": {
        "colab": {
          "base_uri": "https://localhost:8080/"
        },
        "id": "I5go1GEJkYCT",
        "outputId": "4e74b9c3-3595-4b36-8f24-e4f7c097d3ee"
      },
      "execution_count": null,
      "outputs": [
        {
          "output_type": "stream",
          "name": "stdout",
          "text": [
            "Digite um numero real  2.8\n",
            "Numero -> 2.80 \n",
            "Dobro deste numero -> 5.60\n"
          ]
        }
      ]
    },
    {
      "cell_type": "code",
      "source": [
        "#12. Reescrever o programa anterior apresentando o quadrado e o cubo do número informado\n",
        "numero_real_client = float((input(\"Digite um numero real  \")))\n",
        "quadrado_real_client = float(numero_real_client * numero_real_client)\n",
        "dobro_real_client = float(numero_real_client * 2)\n",
        "cubo_real_client = float(numero_real_client * numero_real_client * numero_real_client)\n",
        "print(\"Numero -> {:.2f} \".format(numero_real_client))\n",
        "print(\"Dobro deste numero -> {:.2f}\".format(dobro_real_client))\n",
        "print(\"Quadrado deste numero -> {:.2f}\".format(quadrado_real_client))\n",
        "print(\"Cubo deste numero -> {:.2f}\".format(cubo_real_client))"
      ],
      "metadata": {
        "colab": {
          "base_uri": "https://localhost:8080/"
        },
        "id": "DC4DHSigkZy1",
        "outputId": "a21b1abe-6f59-4a71-ed75-4bdc13bbd573"
      },
      "execution_count": null,
      "outputs": [
        {
          "output_type": "stream",
          "name": "stdout",
          "text": [
            "Digite um numero real  2.8\n",
            "Numero -> 2.80 \n",
            "Dobro deste numero -> 5.60\n",
            "Quadrado deste numero -> 7.84\n",
            "Cubo deste numero -> 21.95\n"
          ]
        }
      ]
    },
    {
      "cell_type": "code",
      "source": [
        "#13. Escreva um programa que solicite ao usuário dois números inteiros e ao final apresente\n",
        "#na tela a soma dos dois números informados da seguinte forma: \"O numeros N e X\n",
        "#somados correspondem a Y\"\n",
        "num_int_1 = int(input(\"Digite um numero inteiro  \"))\n",
        "num_int_2 = int(input(\"Digite outro numero inteiro  \"))\n",
        "soma_nums_client = int(num_int_1 + num_int_2)\n",
        "print(\"O numeros {} e {} somados correspondem a {}\".format(num_int_1, num_int_2, soma_nums_client))"
      ],
      "metadata": {
        "colab": {
          "base_uri": "https://localhost:8080/"
        },
        "id": "Gn8ALGltkbiO",
        "outputId": "2a04e635-f360-476f-dea7-3c643ec6f01f"
      },
      "execution_count": null,
      "outputs": [
        {
          "output_type": "stream",
          "name": "stdout",
          "text": [
            "Digite um numero inteiro  82\n",
            "Digite outro numero inteiro  40\n",
            "O numeros 82 e 40 somados correspondem a 122\n"
          ]
        }
      ]
    },
    {
      "cell_type": "code",
      "source": [
        "#14. Escreva um programa que solicite ao usuário dois números reais e ao final apresente na\n",
        "#tela o produto dos dois números informados da seguinte forma: \"O produto dos numeros N\n",
        "#e X corresponde a Y\"\n",
        "num_real_client_1 = float(input(\"Digite um numero real  \"))\n",
        "num_real_client_2 = float(input(\"Digite outro numero real  \"))\n",
        "soma_dos_num_real_client = float(num_real_client_1 + num_real_client_2)\n",
        "print(\"O produto dos numeros {} e {} corresponde a {}\".format(num_real_client_1, num_real_client_2, soma_dos_num_real_client))"
      ],
      "metadata": {
        "colab": {
          "base_uri": "https://localhost:8080/"
        },
        "id": "Jpq7iT_8kdN2",
        "outputId": "d9e17d03-f994-48f8-96f4-e826d46117c0"
      },
      "execution_count": null,
      "outputs": [
        {
          "output_type": "stream",
          "name": "stdout",
          "text": [
            "Digite um numero real  10\n",
            "Digite outro numero real  52\n",
            "O produto dos numeros 10.0 e 52.0 corresponde a 62.0\n"
          ]
        }
      ]
    },
    {
      "cell_type": "code",
      "source": [
        "#15. Refazer o programa 14 realizando as quatro operações aritméticas básicas\n",
        "num_real_client_1 = float(input(\"Digite um numero real  \"))\n",
        "num_real_client_2 = float(input(\"Digite outro numero real  \"))\n",
        "soma_dos_num_real_client = float(num_real_client_1 + num_real_client_2)\n",
        "subtracao_dos_num_real_client = float(num_real_client_1 - num_real_client_2)\n",
        "multiplicacao_dos_num_real_client = float(num_real_client_1 * num_real_client_2)\n",
        "divisao_dos_num_real_client = float(num_real_client_1 / num_real_client_2)\n",
        "print(\"O produto dos numeros {} e {} corresponde a {}\".format(num_real_client_1, num_real_client_2, soma_dos_num_real_client))\n",
        "print(\"A subtração dos numeros {} e {} corresponde a {}\".format(num_real_client_1, num_real_client_2, subtracao_dos_num_real_client))\n",
        "print(\"A multiplicação dos numeros {} e {} corresponde a {}\".format(num_real_client_1, num_real_client_2, multiplicacao_dos_num_real_client))\n",
        "print(\"A divisão dos numeros {} e {} corresponde a {}\".format(num_real_client_1, num_real_client_2, divisao_dos_num_real_client))"
      ],
      "metadata": {
        "colab": {
          "base_uri": "https://localhost:8080/"
        },
        "id": "iFWyV1mZkkMe",
        "outputId": "a2873470-9f75-4933-c002-0668421aa083"
      },
      "execution_count": null,
      "outputs": [
        {
          "output_type": "stream",
          "name": "stdout",
          "text": [
            "Digite um numero real  20\n",
            "Digite outro numero real  6.28\n",
            "O produto dos numeros 20.0 e 6.28 corresponde a 26.28\n",
            "A subtração dos numeros 20.0 e 6.28 corresponde a 13.719999999999999\n",
            "A multiplicação dos numeros 20.0 e 6.28 corresponde a 125.60000000000001\n",
            "A divisão dos numeros 20.0 e 6.28 corresponde a 3.184713375796178\n"
          ]
        }
      ]
    },
    {
      "cell_type": "markdown",
      "source": [
        "================================================================================"
      ],
      "metadata": {
        "id": "m9pUXXTumWGO"
      }
    },
    {
      "cell_type": "markdown",
      "source": [
        "**Lista 2**"
      ],
      "metadata": {
        "id": "mcbKK7g6krPC"
      }
    },
    {
      "cell_type": "markdown",
      "source": [
        "================================================================================"
      ],
      "metadata": {
        "id": "Ytl5ucpDmanE"
      }
    },
    {
      "cell_type": "code",
      "source": [
        "#1. Elabore um programa que solicite ao usuário um número real e ao final imprima na tela se o\n",
        "#número informado é maior que 10 (dez)\n",
        "num_real_client = float(input(\"Digite um numero real  \"))\n",
        "if num_real_client > 10:\n",
        "  print(\"O numero informado é maior que 10\")\n",
        "elif num_real_client < 10:\n",
        "  print(\"O numero informado é menor que 10\")"
      ],
      "metadata": {
        "colab": {
          "base_uri": "https://localhost:8080/"
        },
        "id": "ML0xVJXCktY0",
        "outputId": "823e7cf8-247f-4414-d272-7707372beef2"
      },
      "execution_count": null,
      "outputs": [
        {
          "output_type": "stream",
          "name": "stdout",
          "text": [
            "Digite um numero real  3.14\n",
            "O numero informado é menor que 10\n"
          ]
        }
      ]
    },
    {
      "cell_type": "code",
      "source": [
        "#2. Escreva um programa que solicite ao usuário um número real e ao final imprima na tela se\n",
        "#o número informado é maior ou igual a dez ou menor que 10 (dez)\n",
        "num_real_client = float(input(\"Digite um numero real  \"))\n",
        "if num_real_client > 10:\n",
        "  print(\"O numero informado é maior que 10\")\n",
        "elif num_real_client == 10:\n",
        "  print(\"O numero informado é igual a 10\")\n",
        "elif num_real_client < 10:\n",
        "  print(\"O numero informado é menor que 10\")"
      ],
      "metadata": {
        "colab": {
          "base_uri": "https://localhost:8080/"
        },
        "id": "TT78q8DdlRpE",
        "outputId": "720c21e5-cc54-40c3-bfbe-5841090845c3"
      },
      "execution_count": null,
      "outputs": [
        {
          "output_type": "stream",
          "name": "stdout",
          "text": [
            "Digite um numero real  3.14\n",
            "O numero informado é menor que 10\n"
          ]
        }
      ]
    },
    {
      "cell_type": "code",
      "source": [
        "#3. Elabore um algoritmo que solicite ao usuário um número real e ao final imprima na tela se o\n",
        "#número informado é maior que dez, se é menor que dez, ou se é igual a dez\n",
        "num_real_client = float(input(\"Digite um numero real  \"))\n",
        "if num_real_client > 10:\n",
        "  print(\"O numero informado é maior que 10\")\n",
        "elif num_real_client == 10:\n",
        "  print(\"O numero informado é igual a 10\")\n",
        "elif num_real_client < 10:\n",
        "  print(\"O numero informado é menor que 10\")"
      ],
      "metadata": {
        "colab": {
          "base_uri": "https://localhost:8080/"
        },
        "id": "kiL30hKglQC5",
        "outputId": "e69c21dd-59f4-4aec-b094-7040e323fcfd"
      },
      "execution_count": null,
      "outputs": [
        {
          "output_type": "stream",
          "name": "stdout",
          "text": [
            "Digite um numero real  3.14\n",
            "O numero informado é menor que 10\n"
          ]
        }
      ]
    },
    {
      "cell_type": "code",
      "source": [
        "#4. Elabore um algoritmo que solicite ao usuário um número real e ao final imprima na tela se o\n",
        "#número informado é positivo, negativo ou nulo (zero)\n",
        "num_real_client = float(input(\"Digite um numero real  \"))\n",
        "if num_real_client > 0:\n",
        "  print(\"O numero informado é positivo\")\n",
        "if num_real_client == 0:\n",
        "  print(\"O numero informado é nulo\")\n",
        "if num_real_client < 0 :\n",
        "  print(\"O numero informado é negativo\")"
      ],
      "metadata": {
        "colab": {
          "base_uri": "https://localhost:8080/"
        },
        "id": "rTVNx188lOdw",
        "outputId": "2265d1d4-9a63-4eef-8fd0-307f8813eaba"
      },
      "execution_count": null,
      "outputs": [
        {
          "output_type": "stream",
          "name": "stdout",
          "text": [
            "Digite um numero real  3.14\n",
            "O numero informado é positivo\n"
          ]
        }
      ]
    },
    {
      "cell_type": "code",
      "source": [
        "#5. Elabore um algoritmo que leia um número inteiro e imprima uma das mensagens: é múltiplo\n",
        "#de 3, ou, não é múltiplo de 3\n",
        "num_cliente = int(input(\"Digite um numero inteiro  \"))\n",
        "if int(num_cliente) % 3 == 0:\n",
        "  print(\"Esse numero é multiplo de 3\")\n",
        "else:\n",
        "  print(\"Esse numero não é multiplo de 3\")"
      ],
      "metadata": {
        "colab": {
          "base_uri": "https://localhost:8080/"
        },
        "id": "Row_vpq3lM1p",
        "outputId": "db0f5683-5eaa-4d11-99c3-f01352175a82"
      },
      "execution_count": null,
      "outputs": [
        {
          "output_type": "stream",
          "name": "stdout",
          "text": [
            "Digite um numero inteiro  9\n",
            "Esse numero é multiplo de 3\n"
          ]
        }
      ]
    },
    {
      "cell_type": "code",
      "source": [
        "#6. Refazer o exercício anterior, solicitando antes o múltiplo a ser testado\n",
        "num_cliente = int(input(\"Digite um numero a ser testado multiplo de 3  \"))\n",
        "if int(num_cliente) % 3 == 0:\n",
        "  print(\"Esse numero é multiplo de 3\")\n",
        "else:\n",
        "  print(\"Esse numero não é multiplo de 3\")"
      ],
      "metadata": {
        "colab": {
          "base_uri": "https://localhost:8080/"
        },
        "id": "Hvv1uAublK5C",
        "outputId": "c7a007cd-be6f-41a5-9906-78045201f467"
      },
      "execution_count": null,
      "outputs": [
        {
          "output_type": "stream",
          "name": "stdout",
          "text": [
            "Digite um numero a ser testado multiplo de 3  3\n",
            "Esse numero é multiplo de 3\n"
          ]
        }
      ]
    },
    {
      "cell_type": "code",
      "source": [
        "#7. Desenvolva um algoritmo que classifique um número inteiro fornecido pelo usuário como\n",
        "#par ou ímpar\n",
        "num_int_forne = int(input(\"Digite um numero inteiro  \"))\n",
        "if int(num_int_forne) % 2 == 0:\n",
        "  print(\"Esse numero é par\")\n",
        "else:\n",
        "  print(\"Esse numero é impar\")"
      ],
      "metadata": {
        "colab": {
          "base_uri": "https://localhost:8080/"
        },
        "id": "rD-j-XQ4lJHw",
        "outputId": "a4364d00-ca64-47a0-8fe5-71a0780efd2c"
      },
      "execution_count": null,
      "outputs": [
        {
          "output_type": "stream",
          "name": "stdout",
          "text": [
            "Digite um numero inteiro  3\n",
            "Esse numero é impar\n"
          ]
        }
      ]
    },
    {
      "cell_type": "code",
      "source": [
        "#8. Elabore um algoritmo que leia um número, e se ele for maior do que 20, imprimir a metade\n",
        "#desse número, caso contrário, imprimir o dobro do número\n",
        "num_do_cliente = float(input(\"Digite um numero  \"))\n",
        "if num_do_cliente > 20:\n",
        "  print(\"Metade de seu numero {}\".format(num_do_cliente / 2))\n",
        "elif num_do_cliente < 20:\n",
        "  print(\"Dobro de seu numero {}\".format(num_do_cliente * 2))\n",
        "elif num_do_cliente == 20:\n",
        "  print(\"Igual a 20\")"
      ],
      "metadata": {
        "colab": {
          "base_uri": "https://localhost:8080/"
        },
        "id": "WbrmPDd0lHGv",
        "outputId": "a8f4169d-a28f-4fec-8192-062c0f6ae16f"
      },
      "execution_count": null,
      "outputs": [
        {
          "output_type": "stream",
          "name": "stdout",
          "text": [
            "Digite um numero  20\n",
            "Igual a 20\n"
          ]
        }
      ]
    },
    {
      "cell_type": "code",
      "source": [
        "#9. Elabore um algoritmo que leia dois números inteiros e realize a adição; caso o resultado\n",
        "#seja maior que 10, imprima o quadrado do resultado, caso contrário, imprima a metade dele\n",
        "num_int_1 = int(input(\"Digite um numero inteiro  \"))\n",
        "num_int_2 = int(input(\"Digite outro numero inteiro  \"))\n",
        "num_int_soma = num_int_1 + num_int_2\n",
        "if num_int_soma > 10:\n",
        "  print(\"Quadrado do resultado = {}\".format(num_int_soma * num_int_soma))\n",
        "else:\n",
        "  print(\"Metade do resultado = {}\".format(num_int_soma / 2))"
      ],
      "metadata": {
        "colab": {
          "base_uri": "https://localhost:8080/"
        },
        "id": "9IS84MlDlDsL",
        "outputId": "638136db-81ce-4822-c5a3-a445d04c61b7"
      },
      "execution_count": null,
      "outputs": [
        {
          "output_type": "stream",
          "name": "stdout",
          "text": [
            "Digite um numero inteiro  20\n",
            "Digite outro numero inteiro  40\n",
            "Quadrado do resultado = 3600\n"
          ]
        }
      ]
    },
    {
      "cell_type": "code",
      "source": [
        "#10. O sistema de avaliação de determinada disciplina é composto por três provas. A primeira\n",
        "#prova tem peso 2, a segunda tem peso 3 e a terceira tem peso 5. Considerando que a\n",
        "#média para aprovação é 6.0, faça um algoritmo para calcular a média final de um aluno\n",
        "#desta disciplina e dizer se o aluno foi aprovado ou não\n",
        "prova_1 = int(input(\"Digite sua nota prova 1  \"))\n",
        "prova_1_pes_2 = prova_1 * 2\n",
        "prova_2 = int(input(\"Digite sua nota prova 2  \"))\n",
        "prova_2_pes_3 = prova_2 * 3\n",
        "prova_3 = int(input(\"Digite sua nota prova 3  \"))\n",
        "prova_3_pes_5 = prova_3 * 5\n",
        "media = (prova_1_pes_2 + prova_2_pes_3 + prova_3_pes_5) / 3\n",
        "if media >= 6:\n",
        "  print(\"Você foi aprovado\")\n",
        "else:\n",
        "  print(\"Você reprovou\")"
      ],
      "metadata": {
        "colab": {
          "base_uri": "https://localhost:8080/"
        },
        "id": "ypnJsF0elBxj",
        "outputId": "3fc25996-dc4a-40cb-a4b1-3bd3d7031fd7"
      },
      "execution_count": null,
      "outputs": [
        {
          "output_type": "stream",
          "name": "stdout",
          "text": [
            "Digite sua nota prova 1  10\n",
            "Digite sua nota prova 2  2\n",
            "Digite sua nota prova 3  4\n",
            "Você foi aprovado\n"
          ]
        }
      ]
    },
    {
      "cell_type": "code",
      "source": [
        "#11. Elabore um algoritmo que leia o nome e o peso de duas pessoas e imprima o nome da\n",
        "#pessoa mais pesada\n",
        "fulano = str(input(\"Digite seu nome fulano  \"))\n",
        "peso_fulano = float(input(\"Digite seu peso fulano  \"))\n",
        "ciclano = str(input(\"Digite seu nome ciclano  \"))\n",
        "peso_ciclano = float(input(\"Digite seu peso ciclano  \"))\n",
        "if peso_fulano > peso_ciclano:\n",
        "  print(\"{} é mais pesado\".format(fulano))\n",
        "elif peso_ciclano > peso_fulano:\n",
        "  print(\"{} é mais pesado\".format(ciclano))\n",
        "else:\n",
        "  print(\"{} e {} possuem o mesmo peso\".format(fulano, ciclano))"
      ],
      "metadata": {
        "colab": {
          "base_uri": "https://localhost:8080/"
        },
        "id": "kR_lsQQ9k6y8",
        "outputId": "d055dafe-84d3-4a7d-d5ab-d526be4b8eb8"
      },
      "execution_count": null,
      "outputs": [
        {
          "output_type": "stream",
          "name": "stdout",
          "text": [
            "Digite seu nome fulano  Vitor\n",
            "Digite seu peso fulano  40\n",
            "Digite seu nome ciclano  Gaybriel\n",
            "Digite seu peso ciclano  70\n",
            "Gaybriel é mais pesado\n"
          ]
        }
      ]
    },
    {
      "cell_type": "code",
      "source": [
        "#12. Elabore um algoritmo que indique se um número digitado está compreendido entre 20 e\n",
        "#90, ou não\n",
        "digito_cliente = float(input(\"Digite um numero  \"))\n",
        "if digito_cliente > 90:\n",
        "  print(\"Não esta incluido entre 20 e 90\")\n",
        "elif digito_cliente < 20:\n",
        "  print(\"Não esta incluido entre 20 e 90\")\n",
        "else:\n",
        "  print(\"Esta incluido entre 20 e 90\")"
      ],
      "metadata": {
        "colab": {
          "base_uri": "https://localhost:8080/"
        },
        "id": "P5HEIOj8k2V-",
        "outputId": "302c9978-e95a-49da-b1ce-0d33f1f3fa7e"
      },
      "execution_count": null,
      "outputs": [
        {
          "output_type": "stream",
          "name": "stdout",
          "text": [
            "Digite um numero  90\n",
            "Esta incluido entre 20 e 90\n"
          ]
        }
      ]
    },
    {
      "cell_type": "code",
      "source": [
        "#13. Elabore um algoritmo que leia dois números e imprima qual é maior, qual é menor, ou se são iguais\n",
        "num_1 = float(input(\"Digite um numero  \"))\n",
        "num_2 = float(input(\"Digite um numero  \"))\n",
        "if num_1 > num_2:\n",
        "  print(\"O numero {} é maior que {}\".format(num_1, num_2))\n",
        "elif num_1 < num_2:\n",
        "  print(\"O numero {} é maior que {}\".format(num_2, num_1))\n",
        "else:\n",
        "  print(\"O numero {} é igual a {}\".format(num_1, num_2))"
      ],
      "metadata": {
        "colab": {
          "base_uri": "https://localhost:8080/"
        },
        "id": "7jsyHmy6ky-B",
        "outputId": "1a6a9423-a0d8-4d9f-ebfd-3699eef33ecd"
      },
      "execution_count": null,
      "outputs": [
        {
          "output_type": "stream",
          "name": "stdout",
          "text": [
            "Digite um numero  40\n",
            "Digite um numero  20\n",
            "O numero 40.0 é maior que 20.0\n"
          ]
        }
      ]
    },
    {
      "cell_type": "code",
      "source": [
        "#14. Escreva um programa em linguagem C que solicite ao usuário a média para aprovação\n",
        "#em um curso e em seguida solicite ao usuário o nome, sexo e as 03 notas do aluno e ao\n",
        "#final imprima a frase: \"O aluno XXXXX foi aprovado com media YY\" considerando o gênero\n",
        "#do(a) aluno(a) e se foi aprovado(a) ou reprovado(a)\n",
        "#14. Escreva um programa em linguagem C que solicite ao usuário a média para aprovação\n",
        "#em um curso e em seguida solicite ao usuário o nome, sexo e as 03 notas do aluno e ao\n",
        "#final imprima a frase: \"O aluno XXXXX foi aprovado com media YY\" considerando o gênero\n",
        "#do(a) aluno(a) e se foi aprovado(a) ou reprovado(a)\n",
        "\n",
        "#include <stdio.h>\n",
        "int main() {\n",
        "    float media_para_aprovacao;\n",
        "    char nome_client[100];\n",
        "    char sexo_client;\n",
        "    float nota_1;\n",
        "    float nota_2;\n",
        "    float nota_3;\n",
        "    float media;\n",
        "    printf(\"Digite a media de aprovação: \");\n",
        "    scanf(\"%f\", &media_para_aprovacao);\n",
        "    printf(\"Digite seu nome: \");\n",
        "    scanf(\"%s\", nome_client);\n",
        "    printf(\"Digite seu sexo: \");\n",
        "    scanf(\" %c\", &sexo_client);\n",
        "    printf(\"Digite sua nota 1: \");\n",
        "    scanf(\"%f\", &nota_1);\n",
        "    printf(\"Digite sua nota 2: \");\n",
        "    scanf(\"%f\", &nota_2);\n",
        "    printf(\"Digite sua nota 3: \");\n",
        "    scanf(\"%f\", &nota_3);\n",
        "    media = (nota_1 + nota_2 + nota_3) / 3.0;\n",
        "    if (media >= media_para_aprovacao) {\n",
        "        printf(\"O aluno %s do sexo %c foi aprovado com uma media de %.2f\\n\", nome_client, sexo_client, media);\n",
        "    } else {\n",
        "        printf(\"O aluno %s do sexo %c foi reprovado com uma media de %.2f\\n\", nome_client, sexo_client, media);\n",
        "    }\n",
        "    return 0;\n",
        "}"
      ],
      "metadata": {
        "colab": {
          "base_uri": "https://localhost:8080/",
          "height": 106
        },
        "id": "m8nKpRxtkwGc",
        "outputId": "23c4f162-ac7f-43b4-f01d-cfeb8506b9ff"
      },
      "execution_count": null,
      "outputs": [
        {
          "output_type": "error",
          "ename": "SyntaxError",
          "evalue": "invalid syntax (<ipython-input-31-5f63c1f430d8>, line 11)",
          "traceback": [
            "\u001b[0;36m  File \u001b[0;32m\"<ipython-input-31-5f63c1f430d8>\"\u001b[0;36m, line \u001b[0;32m11\u001b[0m\n\u001b[0;31m    int main() {\u001b[0m\n\u001b[0m        ^\u001b[0m\n\u001b[0;31mSyntaxError\u001b[0m\u001b[0;31m:\u001b[0m invalid syntax\n"
          ]
        }
      ]
    },
    {
      "cell_type": "markdown",
      "source": [
        "================================================================================"
      ],
      "metadata": {
        "id": "VxrJF6EYmdXi"
      }
    },
    {
      "cell_type": "markdown",
      "source": [
        "**Lista 3**"
      ],
      "metadata": {
        "id": "fQS5W_1zmSFi"
      }
    },
    {
      "cell_type": "markdown",
      "source": [
        "================================================================================"
      ],
      "metadata": {
        "id": "JKekHGFXmdy5"
      }
    },
    {
      "cell_type": "code",
      "source": [
        "#1. Elabore um algoritmo que imprima na tela lado a lado o texto \"Hello World!\" 10 vezes.\n",
        "variavel_hello = \"Hello World!\"\n",
        "for item in range(10):\n",
        "  print(variavel_hello, end = \" \")"
      ],
      "metadata": {
        "colab": {
          "base_uri": "https://localhost:8080/"
        },
        "id": "yYq4aNpomQf-",
        "outputId": "26cfe0a3-bb2d-406f-be7c-c37815c4b857"
      },
      "execution_count": null,
      "outputs": [
        {
          "output_type": "stream",
          "name": "stdout",
          "text": [
            "Hello World! Hello World! Hello World! Hello World! Hello World! Hello World! Hello World! Hello World! Hello World! Hello World! "
          ]
        }
      ]
    },
    {
      "cell_type": "code",
      "source": [
        "#2. Elabore um algoritmo que imprima na tela o texto \"Hello World!\" 10 vezes, um por linha.\n",
        "variavel_hello = [\"Hello World!\"]\n",
        "for item in range(10):\n",
        "  print(variavel_hello)"
      ],
      "metadata": {
        "colab": {
          "base_uri": "https://localhost:8080/"
        },
        "id": "iVrtTKAEmO15",
        "outputId": "b5abb113-722b-44a3-f034-ec56a5727fcd"
      },
      "execution_count": null,
      "outputs": [
        {
          "output_type": "stream",
          "name": "stdout",
          "text": [
            "['Hello World!']\n",
            "['Hello World!']\n",
            "['Hello World!']\n",
            "['Hello World!']\n",
            "['Hello World!']\n",
            "['Hello World!']\n",
            "['Hello World!']\n",
            "['Hello World!']\n",
            "['Hello World!']\n",
            "['Hello World!']\n"
          ]
        }
      ]
    },
    {
      "cell_type": "code",
      "source": [
        "#3. Elabore um algoritmo que imprima todos os números inteiros de 1 até 100 inclusive.\n",
        "for item in range(1, 101):\n",
        "  print(item)"
      ],
      "metadata": {
        "colab": {
          "base_uri": "https://localhost:8080/"
        },
        "id": "d0KT6eXpmNh7",
        "outputId": "8f9a7feb-c34d-4f81-b043-127d44f4d08f"
      },
      "execution_count": null,
      "outputs": [
        {
          "output_type": "stream",
          "name": "stdout",
          "text": [
            "1\n",
            "2\n",
            "3\n",
            "4\n",
            "5\n",
            "6\n",
            "7\n",
            "8\n",
            "9\n",
            "10\n",
            "11\n",
            "12\n",
            "13\n",
            "14\n",
            "15\n",
            "16\n",
            "17\n",
            "18\n",
            "19\n",
            "20\n",
            "21\n",
            "22\n",
            "23\n",
            "24\n",
            "25\n",
            "26\n",
            "27\n",
            "28\n",
            "29\n",
            "30\n",
            "31\n",
            "32\n",
            "33\n",
            "34\n",
            "35\n",
            "36\n",
            "37\n",
            "38\n",
            "39\n",
            "40\n",
            "41\n",
            "42\n",
            "43\n",
            "44\n",
            "45\n",
            "46\n",
            "47\n",
            "48\n",
            "49\n",
            "50\n",
            "51\n",
            "52\n",
            "53\n",
            "54\n",
            "55\n",
            "56\n",
            "57\n",
            "58\n",
            "59\n",
            "60\n",
            "61\n",
            "62\n",
            "63\n",
            "64\n",
            "65\n",
            "66\n",
            "67\n",
            "68\n",
            "69\n",
            "70\n",
            "71\n",
            "72\n",
            "73\n",
            "74\n",
            "75\n",
            "76\n",
            "77\n",
            "78\n",
            "79\n",
            "80\n",
            "81\n",
            "82\n",
            "83\n",
            "84\n",
            "85\n",
            "86\n",
            "87\n",
            "88\n",
            "89\n",
            "90\n",
            "91\n",
            "92\n",
            "93\n",
            "94\n",
            "95\n",
            "96\n",
            "97\n",
            "98\n",
            "99\n",
            "100\n"
          ]
        }
      ]
    },
    {
      "cell_type": "code",
      "source": [
        "#4. Elabore um algoritmo que imprima 100 vezes o texto \"1- Hello World!\" com o número.\n",
        "variavel_hello = \"Hello World!\"\n",
        "for item in range(1, 101):\n",
        "  print(str(item) + \"-\", variavel_hello)"
      ],
      "metadata": {
        "colab": {
          "base_uri": "https://localhost:8080/"
        },
        "id": "88AB28vJmMZt",
        "outputId": "76baab3a-105c-4add-bd69-d7b8be2107b1"
      },
      "execution_count": null,
      "outputs": [
        {
          "output_type": "stream",
          "name": "stdout",
          "text": [
            "1- Hello World!\n",
            "2- Hello World!\n",
            "3- Hello World!\n",
            "4- Hello World!\n",
            "5- Hello World!\n",
            "6- Hello World!\n",
            "7- Hello World!\n",
            "8- Hello World!\n",
            "9- Hello World!\n",
            "10- Hello World!\n",
            "11- Hello World!\n",
            "12- Hello World!\n",
            "13- Hello World!\n",
            "14- Hello World!\n",
            "15- Hello World!\n",
            "16- Hello World!\n",
            "17- Hello World!\n",
            "18- Hello World!\n",
            "19- Hello World!\n",
            "20- Hello World!\n",
            "21- Hello World!\n",
            "22- Hello World!\n",
            "23- Hello World!\n",
            "24- Hello World!\n",
            "25- Hello World!\n",
            "26- Hello World!\n",
            "27- Hello World!\n",
            "28- Hello World!\n",
            "29- Hello World!\n",
            "30- Hello World!\n",
            "31- Hello World!\n",
            "32- Hello World!\n",
            "33- Hello World!\n",
            "34- Hello World!\n",
            "35- Hello World!\n",
            "36- Hello World!\n",
            "37- Hello World!\n",
            "38- Hello World!\n",
            "39- Hello World!\n",
            "40- Hello World!\n",
            "41- Hello World!\n",
            "42- Hello World!\n",
            "43- Hello World!\n",
            "44- Hello World!\n",
            "45- Hello World!\n",
            "46- Hello World!\n",
            "47- Hello World!\n",
            "48- Hello World!\n",
            "49- Hello World!\n",
            "50- Hello World!\n",
            "51- Hello World!\n",
            "52- Hello World!\n",
            "53- Hello World!\n",
            "54- Hello World!\n",
            "55- Hello World!\n",
            "56- Hello World!\n",
            "57- Hello World!\n",
            "58- Hello World!\n",
            "59- Hello World!\n",
            "60- Hello World!\n",
            "61- Hello World!\n",
            "62- Hello World!\n",
            "63- Hello World!\n",
            "64- Hello World!\n",
            "65- Hello World!\n",
            "66- Hello World!\n",
            "67- Hello World!\n",
            "68- Hello World!\n",
            "69- Hello World!\n",
            "70- Hello World!\n",
            "71- Hello World!\n",
            "72- Hello World!\n",
            "73- Hello World!\n",
            "74- Hello World!\n",
            "75- Hello World!\n",
            "76- Hello World!\n",
            "77- Hello World!\n",
            "78- Hello World!\n",
            "79- Hello World!\n",
            "80- Hello World!\n",
            "81- Hello World!\n",
            "82- Hello World!\n",
            "83- Hello World!\n",
            "84- Hello World!\n",
            "85- Hello World!\n",
            "86- Hello World!\n",
            "87- Hello World!\n",
            "88- Hello World!\n",
            "89- Hello World!\n",
            "90- Hello World!\n",
            "91- Hello World!\n",
            "92- Hello World!\n",
            "93- Hello World!\n",
            "94- Hello World!\n",
            "95- Hello World!\n",
            "96- Hello World!\n",
            "97- Hello World!\n",
            "98- Hello World!\n",
            "99- Hello World!\n",
            "100- Hello World!\n"
          ]
        }
      ]
    },
    {
      "cell_type": "code",
      "source": [
        "#5. Elabore um algoritmo que imprima todos os números decrescentes de 100 até 0 inclusive.\n",
        "for item in range(100, -1, -1):\n",
        "  print(item)"
      ],
      "metadata": {
        "colab": {
          "base_uri": "https://localhost:8080/"
        },
        "id": "7mw_D6w_mJ-w",
        "outputId": "25364dcc-f136-44b2-d000-ec9dde7bbb79"
      },
      "execution_count": null,
      "outputs": [
        {
          "output_type": "stream",
          "name": "stdout",
          "text": [
            "100\n",
            "99\n",
            "98\n",
            "97\n",
            "96\n",
            "95\n",
            "94\n",
            "93\n",
            "92\n",
            "91\n",
            "90\n",
            "89\n",
            "88\n",
            "87\n",
            "86\n",
            "85\n",
            "84\n",
            "83\n",
            "82\n",
            "81\n",
            "80\n",
            "79\n",
            "78\n",
            "77\n",
            "76\n",
            "75\n",
            "74\n",
            "73\n",
            "72\n",
            "71\n",
            "70\n",
            "69\n",
            "68\n",
            "67\n",
            "66\n",
            "65\n",
            "64\n",
            "63\n",
            "62\n",
            "61\n",
            "60\n",
            "59\n",
            "58\n",
            "57\n",
            "56\n",
            "55\n",
            "54\n",
            "53\n",
            "52\n",
            "51\n",
            "50\n",
            "49\n",
            "48\n",
            "47\n",
            "46\n",
            "45\n",
            "44\n",
            "43\n",
            "42\n",
            "41\n",
            "40\n",
            "39\n",
            "38\n",
            "37\n",
            "36\n",
            "35\n",
            "34\n",
            "33\n",
            "32\n",
            "31\n",
            "30\n",
            "29\n",
            "28\n",
            "27\n",
            "26\n",
            "25\n",
            "24\n",
            "23\n",
            "22\n",
            "21\n",
            "20\n",
            "19\n",
            "18\n",
            "17\n",
            "16\n",
            "15\n",
            "14\n",
            "13\n",
            "12\n",
            "11\n",
            "10\n",
            "9\n",
            "8\n",
            "7\n",
            "6\n",
            "5\n",
            "4\n",
            "3\n",
            "2\n",
            "1\n",
            "0\n"
          ]
        }
      ]
    },
    {
      "cell_type": "code",
      "source": [
        "#6. Elabore um algoritmo que imprima todos os números pares inteiros de 1 até 1000.\n",
        "for item in range(1, 1001):\n",
        "  if item% 2 == 0:\n",
        "    print(item)"
      ],
      "metadata": {
        "colab": {
          "base_uri": "https://localhost:8080/"
        },
        "id": "UgGf9Em0mI3C",
        "outputId": "9eac0e49-8813-46f6-95b9-5472babe5313"
      },
      "execution_count": null,
      "outputs": [
        {
          "output_type": "stream",
          "name": "stdout",
          "text": [
            "2\n",
            "4\n",
            "6\n",
            "8\n",
            "10\n",
            "12\n",
            "14\n",
            "16\n",
            "18\n",
            "20\n",
            "22\n",
            "24\n",
            "26\n",
            "28\n",
            "30\n",
            "32\n",
            "34\n",
            "36\n",
            "38\n",
            "40\n",
            "42\n",
            "44\n",
            "46\n",
            "48\n",
            "50\n",
            "52\n",
            "54\n",
            "56\n",
            "58\n",
            "60\n",
            "62\n",
            "64\n",
            "66\n",
            "68\n",
            "70\n",
            "72\n",
            "74\n",
            "76\n",
            "78\n",
            "80\n",
            "82\n",
            "84\n",
            "86\n",
            "88\n",
            "90\n",
            "92\n",
            "94\n",
            "96\n",
            "98\n",
            "100\n",
            "102\n",
            "104\n",
            "106\n",
            "108\n",
            "110\n",
            "112\n",
            "114\n",
            "116\n",
            "118\n",
            "120\n",
            "122\n",
            "124\n",
            "126\n",
            "128\n",
            "130\n",
            "132\n",
            "134\n",
            "136\n",
            "138\n",
            "140\n",
            "142\n",
            "144\n",
            "146\n",
            "148\n",
            "150\n",
            "152\n",
            "154\n",
            "156\n",
            "158\n",
            "160\n",
            "162\n",
            "164\n",
            "166\n",
            "168\n",
            "170\n",
            "172\n",
            "174\n",
            "176\n",
            "178\n",
            "180\n",
            "182\n",
            "184\n",
            "186\n",
            "188\n",
            "190\n",
            "192\n",
            "194\n",
            "196\n",
            "198\n",
            "200\n",
            "202\n",
            "204\n",
            "206\n",
            "208\n",
            "210\n",
            "212\n",
            "214\n",
            "216\n",
            "218\n",
            "220\n",
            "222\n",
            "224\n",
            "226\n",
            "228\n",
            "230\n",
            "232\n",
            "234\n",
            "236\n",
            "238\n",
            "240\n",
            "242\n",
            "244\n",
            "246\n",
            "248\n",
            "250\n",
            "252\n",
            "254\n",
            "256\n",
            "258\n",
            "260\n",
            "262\n",
            "264\n",
            "266\n",
            "268\n",
            "270\n",
            "272\n",
            "274\n",
            "276\n",
            "278\n",
            "280\n",
            "282\n",
            "284\n",
            "286\n",
            "288\n",
            "290\n",
            "292\n",
            "294\n",
            "296\n",
            "298\n",
            "300\n",
            "302\n",
            "304\n",
            "306\n",
            "308\n",
            "310\n",
            "312\n",
            "314\n",
            "316\n",
            "318\n",
            "320\n",
            "322\n",
            "324\n",
            "326\n",
            "328\n",
            "330\n",
            "332\n",
            "334\n",
            "336\n",
            "338\n",
            "340\n",
            "342\n",
            "344\n",
            "346\n",
            "348\n",
            "350\n",
            "352\n",
            "354\n",
            "356\n",
            "358\n",
            "360\n",
            "362\n",
            "364\n",
            "366\n",
            "368\n",
            "370\n",
            "372\n",
            "374\n",
            "376\n",
            "378\n",
            "380\n",
            "382\n",
            "384\n",
            "386\n",
            "388\n",
            "390\n",
            "392\n",
            "394\n",
            "396\n",
            "398\n",
            "400\n",
            "402\n",
            "404\n",
            "406\n",
            "408\n",
            "410\n",
            "412\n",
            "414\n",
            "416\n",
            "418\n",
            "420\n",
            "422\n",
            "424\n",
            "426\n",
            "428\n",
            "430\n",
            "432\n",
            "434\n",
            "436\n",
            "438\n",
            "440\n",
            "442\n",
            "444\n",
            "446\n",
            "448\n",
            "450\n",
            "452\n",
            "454\n",
            "456\n",
            "458\n",
            "460\n",
            "462\n",
            "464\n",
            "466\n",
            "468\n",
            "470\n",
            "472\n",
            "474\n",
            "476\n",
            "478\n",
            "480\n",
            "482\n",
            "484\n",
            "486\n",
            "488\n",
            "490\n",
            "492\n",
            "494\n",
            "496\n",
            "498\n",
            "500\n",
            "502\n",
            "504\n",
            "506\n",
            "508\n",
            "510\n",
            "512\n",
            "514\n",
            "516\n",
            "518\n",
            "520\n",
            "522\n",
            "524\n",
            "526\n",
            "528\n",
            "530\n",
            "532\n",
            "534\n",
            "536\n",
            "538\n",
            "540\n",
            "542\n",
            "544\n",
            "546\n",
            "548\n",
            "550\n",
            "552\n",
            "554\n",
            "556\n",
            "558\n",
            "560\n",
            "562\n",
            "564\n",
            "566\n",
            "568\n",
            "570\n",
            "572\n",
            "574\n",
            "576\n",
            "578\n",
            "580\n",
            "582\n",
            "584\n",
            "586\n",
            "588\n",
            "590\n",
            "592\n",
            "594\n",
            "596\n",
            "598\n",
            "600\n",
            "602\n",
            "604\n",
            "606\n",
            "608\n",
            "610\n",
            "612\n",
            "614\n",
            "616\n",
            "618\n",
            "620\n",
            "622\n",
            "624\n",
            "626\n",
            "628\n",
            "630\n",
            "632\n",
            "634\n",
            "636\n",
            "638\n",
            "640\n",
            "642\n",
            "644\n",
            "646\n",
            "648\n",
            "650\n",
            "652\n",
            "654\n",
            "656\n",
            "658\n",
            "660\n",
            "662\n",
            "664\n",
            "666\n",
            "668\n",
            "670\n",
            "672\n",
            "674\n",
            "676\n",
            "678\n",
            "680\n",
            "682\n",
            "684\n",
            "686\n",
            "688\n",
            "690\n",
            "692\n",
            "694\n",
            "696\n",
            "698\n",
            "700\n",
            "702\n",
            "704\n",
            "706\n",
            "708\n",
            "710\n",
            "712\n",
            "714\n",
            "716\n",
            "718\n",
            "720\n",
            "722\n",
            "724\n",
            "726\n",
            "728\n",
            "730\n",
            "732\n",
            "734\n",
            "736\n",
            "738\n",
            "740\n",
            "742\n",
            "744\n",
            "746\n",
            "748\n",
            "750\n",
            "752\n",
            "754\n",
            "756\n",
            "758\n",
            "760\n",
            "762\n",
            "764\n",
            "766\n",
            "768\n",
            "770\n",
            "772\n",
            "774\n",
            "776\n",
            "778\n",
            "780\n",
            "782\n",
            "784\n",
            "786\n",
            "788\n",
            "790\n",
            "792\n",
            "794\n",
            "796\n",
            "798\n",
            "800\n",
            "802\n",
            "804\n",
            "806\n",
            "808\n",
            "810\n",
            "812\n",
            "814\n",
            "816\n",
            "818\n",
            "820\n",
            "822\n",
            "824\n",
            "826\n",
            "828\n",
            "830\n",
            "832\n",
            "834\n",
            "836\n",
            "838\n",
            "840\n",
            "842\n",
            "844\n",
            "846\n",
            "848\n",
            "850\n",
            "852\n",
            "854\n",
            "856\n",
            "858\n",
            "860\n",
            "862\n",
            "864\n",
            "866\n",
            "868\n",
            "870\n",
            "872\n",
            "874\n",
            "876\n",
            "878\n",
            "880\n",
            "882\n",
            "884\n",
            "886\n",
            "888\n",
            "890\n",
            "892\n",
            "894\n",
            "896\n",
            "898\n",
            "900\n",
            "902\n",
            "904\n",
            "906\n",
            "908\n",
            "910\n",
            "912\n",
            "914\n",
            "916\n",
            "918\n",
            "920\n",
            "922\n",
            "924\n",
            "926\n",
            "928\n",
            "930\n",
            "932\n",
            "934\n",
            "936\n",
            "938\n",
            "940\n",
            "942\n",
            "944\n",
            "946\n",
            "948\n",
            "950\n",
            "952\n",
            "954\n",
            "956\n",
            "958\n",
            "960\n",
            "962\n",
            "964\n",
            "966\n",
            "968\n",
            "970\n",
            "972\n",
            "974\n",
            "976\n",
            "978\n",
            "980\n",
            "982\n",
            "984\n",
            "986\n",
            "988\n",
            "990\n",
            "992\n",
            "994\n",
            "996\n",
            "998\n",
            "1000\n"
          ]
        }
      ]
    },
    {
      "cell_type": "code",
      "source": [
        "#7. Elabore um algoritmo que imprima todos os números ímpares de 1000 até 0.\n",
        "for item in range(1000, -1, -1):\n",
        "  if item% 2 == 0:\n",
        "    print()\n",
        "  else:\n",
        "    print(item)"
      ],
      "metadata": {
        "colab": {
          "base_uri": "https://localhost:8080/"
        },
        "id": "mCt6JpW0mGme",
        "outputId": "9b54b2ee-6c00-4db9-a505-7ea74136fa7e"
      },
      "execution_count": null,
      "outputs": [
        {
          "output_type": "stream",
          "name": "stdout",
          "text": [
            "\n",
            "999\n",
            "\n",
            "997\n",
            "\n",
            "995\n",
            "\n",
            "993\n",
            "\n",
            "991\n",
            "\n",
            "989\n",
            "\n",
            "987\n",
            "\n",
            "985\n",
            "\n",
            "983\n",
            "\n",
            "981\n",
            "\n",
            "979\n",
            "\n",
            "977\n",
            "\n",
            "975\n",
            "\n",
            "973\n",
            "\n",
            "971\n",
            "\n",
            "969\n",
            "\n",
            "967\n",
            "\n",
            "965\n",
            "\n",
            "963\n",
            "\n",
            "961\n",
            "\n",
            "959\n",
            "\n",
            "957\n",
            "\n",
            "955\n",
            "\n",
            "953\n",
            "\n",
            "951\n",
            "\n",
            "949\n",
            "\n",
            "947\n",
            "\n",
            "945\n",
            "\n",
            "943\n",
            "\n",
            "941\n",
            "\n",
            "939\n",
            "\n",
            "937\n",
            "\n",
            "935\n",
            "\n",
            "933\n",
            "\n",
            "931\n",
            "\n",
            "929\n",
            "\n",
            "927\n",
            "\n",
            "925\n",
            "\n",
            "923\n",
            "\n",
            "921\n",
            "\n",
            "919\n",
            "\n",
            "917\n",
            "\n",
            "915\n",
            "\n",
            "913\n",
            "\n",
            "911\n",
            "\n",
            "909\n",
            "\n",
            "907\n",
            "\n",
            "905\n",
            "\n",
            "903\n",
            "\n",
            "901\n",
            "\n",
            "899\n",
            "\n",
            "897\n",
            "\n",
            "895\n",
            "\n",
            "893\n",
            "\n",
            "891\n",
            "\n",
            "889\n",
            "\n",
            "887\n",
            "\n",
            "885\n",
            "\n",
            "883\n",
            "\n",
            "881\n",
            "\n",
            "879\n",
            "\n",
            "877\n",
            "\n",
            "875\n",
            "\n",
            "873\n",
            "\n",
            "871\n",
            "\n",
            "869\n",
            "\n",
            "867\n",
            "\n",
            "865\n",
            "\n",
            "863\n",
            "\n",
            "861\n",
            "\n",
            "859\n",
            "\n",
            "857\n",
            "\n",
            "855\n",
            "\n",
            "853\n",
            "\n",
            "851\n",
            "\n",
            "849\n",
            "\n",
            "847\n",
            "\n",
            "845\n",
            "\n",
            "843\n",
            "\n",
            "841\n",
            "\n",
            "839\n",
            "\n",
            "837\n",
            "\n",
            "835\n",
            "\n",
            "833\n",
            "\n",
            "831\n",
            "\n",
            "829\n",
            "\n",
            "827\n",
            "\n",
            "825\n",
            "\n",
            "823\n",
            "\n",
            "821\n",
            "\n",
            "819\n",
            "\n",
            "817\n",
            "\n",
            "815\n",
            "\n",
            "813\n",
            "\n",
            "811\n",
            "\n",
            "809\n",
            "\n",
            "807\n",
            "\n",
            "805\n",
            "\n",
            "803\n",
            "\n",
            "801\n",
            "\n",
            "799\n",
            "\n",
            "797\n",
            "\n",
            "795\n",
            "\n",
            "793\n",
            "\n",
            "791\n",
            "\n",
            "789\n",
            "\n",
            "787\n",
            "\n",
            "785\n",
            "\n",
            "783\n",
            "\n",
            "781\n",
            "\n",
            "779\n",
            "\n",
            "777\n",
            "\n",
            "775\n",
            "\n",
            "773\n",
            "\n",
            "771\n",
            "\n",
            "769\n",
            "\n",
            "767\n",
            "\n",
            "765\n",
            "\n",
            "763\n",
            "\n",
            "761\n",
            "\n",
            "759\n",
            "\n",
            "757\n",
            "\n",
            "755\n",
            "\n",
            "753\n",
            "\n",
            "751\n",
            "\n",
            "749\n",
            "\n",
            "747\n",
            "\n",
            "745\n",
            "\n",
            "743\n",
            "\n",
            "741\n",
            "\n",
            "739\n",
            "\n",
            "737\n",
            "\n",
            "735\n",
            "\n",
            "733\n",
            "\n",
            "731\n",
            "\n",
            "729\n",
            "\n",
            "727\n",
            "\n",
            "725\n",
            "\n",
            "723\n",
            "\n",
            "721\n",
            "\n",
            "719\n",
            "\n",
            "717\n",
            "\n",
            "715\n",
            "\n",
            "713\n",
            "\n",
            "711\n",
            "\n",
            "709\n",
            "\n",
            "707\n",
            "\n",
            "705\n",
            "\n",
            "703\n",
            "\n",
            "701\n",
            "\n",
            "699\n",
            "\n",
            "697\n",
            "\n",
            "695\n",
            "\n",
            "693\n",
            "\n",
            "691\n",
            "\n",
            "689\n",
            "\n",
            "687\n",
            "\n",
            "685\n",
            "\n",
            "683\n",
            "\n",
            "681\n",
            "\n",
            "679\n",
            "\n",
            "677\n",
            "\n",
            "675\n",
            "\n",
            "673\n",
            "\n",
            "671\n",
            "\n",
            "669\n",
            "\n",
            "667\n",
            "\n",
            "665\n",
            "\n",
            "663\n",
            "\n",
            "661\n",
            "\n",
            "659\n",
            "\n",
            "657\n",
            "\n",
            "655\n",
            "\n",
            "653\n",
            "\n",
            "651\n",
            "\n",
            "649\n",
            "\n",
            "647\n",
            "\n",
            "645\n",
            "\n",
            "643\n",
            "\n",
            "641\n",
            "\n",
            "639\n",
            "\n",
            "637\n",
            "\n",
            "635\n",
            "\n",
            "633\n",
            "\n",
            "631\n",
            "\n",
            "629\n",
            "\n",
            "627\n",
            "\n",
            "625\n",
            "\n",
            "623\n",
            "\n",
            "621\n",
            "\n",
            "619\n",
            "\n",
            "617\n",
            "\n",
            "615\n",
            "\n",
            "613\n",
            "\n",
            "611\n",
            "\n",
            "609\n",
            "\n",
            "607\n",
            "\n",
            "605\n",
            "\n",
            "603\n",
            "\n",
            "601\n",
            "\n",
            "599\n",
            "\n",
            "597\n",
            "\n",
            "595\n",
            "\n",
            "593\n",
            "\n",
            "591\n",
            "\n",
            "589\n",
            "\n",
            "587\n",
            "\n",
            "585\n",
            "\n",
            "583\n",
            "\n",
            "581\n",
            "\n",
            "579\n",
            "\n",
            "577\n",
            "\n",
            "575\n",
            "\n",
            "573\n",
            "\n",
            "571\n",
            "\n",
            "569\n",
            "\n",
            "567\n",
            "\n",
            "565\n",
            "\n",
            "563\n",
            "\n",
            "561\n",
            "\n",
            "559\n",
            "\n",
            "557\n",
            "\n",
            "555\n",
            "\n",
            "553\n",
            "\n",
            "551\n",
            "\n",
            "549\n",
            "\n",
            "547\n",
            "\n",
            "545\n",
            "\n",
            "543\n",
            "\n",
            "541\n",
            "\n",
            "539\n",
            "\n",
            "537\n",
            "\n",
            "535\n",
            "\n",
            "533\n",
            "\n",
            "531\n",
            "\n",
            "529\n",
            "\n",
            "527\n",
            "\n",
            "525\n",
            "\n",
            "523\n",
            "\n",
            "521\n",
            "\n",
            "519\n",
            "\n",
            "517\n",
            "\n",
            "515\n",
            "\n",
            "513\n",
            "\n",
            "511\n",
            "\n",
            "509\n",
            "\n",
            "507\n",
            "\n",
            "505\n",
            "\n",
            "503\n",
            "\n",
            "501\n",
            "\n",
            "499\n",
            "\n",
            "497\n",
            "\n",
            "495\n",
            "\n",
            "493\n",
            "\n",
            "491\n",
            "\n",
            "489\n",
            "\n",
            "487\n",
            "\n",
            "485\n",
            "\n",
            "483\n",
            "\n",
            "481\n",
            "\n",
            "479\n",
            "\n",
            "477\n",
            "\n",
            "475\n",
            "\n",
            "473\n",
            "\n",
            "471\n",
            "\n",
            "469\n",
            "\n",
            "467\n",
            "\n",
            "465\n",
            "\n",
            "463\n",
            "\n",
            "461\n",
            "\n",
            "459\n",
            "\n",
            "457\n",
            "\n",
            "455\n",
            "\n",
            "453\n",
            "\n",
            "451\n",
            "\n",
            "449\n",
            "\n",
            "447\n",
            "\n",
            "445\n",
            "\n",
            "443\n",
            "\n",
            "441\n",
            "\n",
            "439\n",
            "\n",
            "437\n",
            "\n",
            "435\n",
            "\n",
            "433\n",
            "\n",
            "431\n",
            "\n",
            "429\n",
            "\n",
            "427\n",
            "\n",
            "425\n",
            "\n",
            "423\n",
            "\n",
            "421\n",
            "\n",
            "419\n",
            "\n",
            "417\n",
            "\n",
            "415\n",
            "\n",
            "413\n",
            "\n",
            "411\n",
            "\n",
            "409\n",
            "\n",
            "407\n",
            "\n",
            "405\n",
            "\n",
            "403\n",
            "\n",
            "401\n",
            "\n",
            "399\n",
            "\n",
            "397\n",
            "\n",
            "395\n",
            "\n",
            "393\n",
            "\n",
            "391\n",
            "\n",
            "389\n",
            "\n",
            "387\n",
            "\n",
            "385\n",
            "\n",
            "383\n",
            "\n",
            "381\n",
            "\n",
            "379\n",
            "\n",
            "377\n",
            "\n",
            "375\n",
            "\n",
            "373\n",
            "\n",
            "371\n",
            "\n",
            "369\n",
            "\n",
            "367\n",
            "\n",
            "365\n",
            "\n",
            "363\n",
            "\n",
            "361\n",
            "\n",
            "359\n",
            "\n",
            "357\n",
            "\n",
            "355\n",
            "\n",
            "353\n",
            "\n",
            "351\n",
            "\n",
            "349\n",
            "\n",
            "347\n",
            "\n",
            "345\n",
            "\n",
            "343\n",
            "\n",
            "341\n",
            "\n",
            "339\n",
            "\n",
            "337\n",
            "\n",
            "335\n",
            "\n",
            "333\n",
            "\n",
            "331\n",
            "\n",
            "329\n",
            "\n",
            "327\n",
            "\n",
            "325\n",
            "\n",
            "323\n",
            "\n",
            "321\n",
            "\n",
            "319\n",
            "\n",
            "317\n",
            "\n",
            "315\n",
            "\n",
            "313\n",
            "\n",
            "311\n",
            "\n",
            "309\n",
            "\n",
            "307\n",
            "\n",
            "305\n",
            "\n",
            "303\n",
            "\n",
            "301\n",
            "\n",
            "299\n",
            "\n",
            "297\n",
            "\n",
            "295\n",
            "\n",
            "293\n",
            "\n",
            "291\n",
            "\n",
            "289\n",
            "\n",
            "287\n",
            "\n",
            "285\n",
            "\n",
            "283\n",
            "\n",
            "281\n",
            "\n",
            "279\n",
            "\n",
            "277\n",
            "\n",
            "275\n",
            "\n",
            "273\n",
            "\n",
            "271\n",
            "\n",
            "269\n",
            "\n",
            "267\n",
            "\n",
            "265\n",
            "\n",
            "263\n",
            "\n",
            "261\n",
            "\n",
            "259\n",
            "\n",
            "257\n",
            "\n",
            "255\n",
            "\n",
            "253\n",
            "\n",
            "251\n",
            "\n",
            "249\n",
            "\n",
            "247\n",
            "\n",
            "245\n",
            "\n",
            "243\n",
            "\n",
            "241\n",
            "\n",
            "239\n",
            "\n",
            "237\n",
            "\n",
            "235\n",
            "\n",
            "233\n",
            "\n",
            "231\n",
            "\n",
            "229\n",
            "\n",
            "227\n",
            "\n",
            "225\n",
            "\n",
            "223\n",
            "\n",
            "221\n",
            "\n",
            "219\n",
            "\n",
            "217\n",
            "\n",
            "215\n",
            "\n",
            "213\n",
            "\n",
            "211\n",
            "\n",
            "209\n",
            "\n",
            "207\n",
            "\n",
            "205\n",
            "\n",
            "203\n",
            "\n",
            "201\n",
            "\n",
            "199\n",
            "\n",
            "197\n",
            "\n",
            "195\n",
            "\n",
            "193\n",
            "\n",
            "191\n",
            "\n",
            "189\n",
            "\n",
            "187\n",
            "\n",
            "185\n",
            "\n",
            "183\n",
            "\n",
            "181\n",
            "\n",
            "179\n",
            "\n",
            "177\n",
            "\n",
            "175\n",
            "\n",
            "173\n",
            "\n",
            "171\n",
            "\n",
            "169\n",
            "\n",
            "167\n",
            "\n",
            "165\n",
            "\n",
            "163\n",
            "\n",
            "161\n",
            "\n",
            "159\n",
            "\n",
            "157\n",
            "\n",
            "155\n",
            "\n",
            "153\n",
            "\n",
            "151\n",
            "\n",
            "149\n",
            "\n",
            "147\n",
            "\n",
            "145\n",
            "\n",
            "143\n",
            "\n",
            "141\n",
            "\n",
            "139\n",
            "\n",
            "137\n",
            "\n",
            "135\n",
            "\n",
            "133\n",
            "\n",
            "131\n",
            "\n",
            "129\n",
            "\n",
            "127\n",
            "\n",
            "125\n",
            "\n",
            "123\n",
            "\n",
            "121\n",
            "\n",
            "119\n",
            "\n",
            "117\n",
            "\n",
            "115\n",
            "\n",
            "113\n",
            "\n",
            "111\n",
            "\n",
            "109\n",
            "\n",
            "107\n",
            "\n",
            "105\n",
            "\n",
            "103\n",
            "\n",
            "101\n",
            "\n",
            "99\n",
            "\n",
            "97\n",
            "\n",
            "95\n",
            "\n",
            "93\n",
            "\n",
            "91\n",
            "\n",
            "89\n",
            "\n",
            "87\n",
            "\n",
            "85\n",
            "\n",
            "83\n",
            "\n",
            "81\n",
            "\n",
            "79\n",
            "\n",
            "77\n",
            "\n",
            "75\n",
            "\n",
            "73\n",
            "\n",
            "71\n",
            "\n",
            "69\n",
            "\n",
            "67\n",
            "\n",
            "65\n",
            "\n",
            "63\n",
            "\n",
            "61\n",
            "\n",
            "59\n",
            "\n",
            "57\n",
            "\n",
            "55\n",
            "\n",
            "53\n",
            "\n",
            "51\n",
            "\n",
            "49\n",
            "\n",
            "47\n",
            "\n",
            "45\n",
            "\n",
            "43\n",
            "\n",
            "41\n",
            "\n",
            "39\n",
            "\n",
            "37\n",
            "\n",
            "35\n",
            "\n",
            "33\n",
            "\n",
            "31\n",
            "\n",
            "29\n",
            "\n",
            "27\n",
            "\n",
            "25\n",
            "\n",
            "23\n",
            "\n",
            "21\n",
            "\n",
            "19\n",
            "\n",
            "17\n",
            "\n",
            "15\n",
            "\n",
            "13\n",
            "\n",
            "11\n",
            "\n",
            "9\n",
            "\n",
            "7\n",
            "\n",
            "5\n",
            "\n",
            "3\n",
            "\n",
            "1\n",
            "\n"
          ]
        }
      ]
    },
    {
      "cell_type": "code",
      "source": [
        "#8. Elabore um algoritmo que imprima a soma dos 100 primeiros números inteiros positivos.\n",
        "soma_de_1a100 = 0\n",
        "for item in range(1, 101):\n",
        "  soma_de_1a100 += item #soma_de_1a100 += item é mesma coisa que soma_de_1a100 = soma_de_1a100 + item\n",
        "print(soma_de_1a100)"
      ],
      "metadata": {
        "colab": {
          "base_uri": "https://localhost:8080/"
        },
        "id": "RO2gyyjqmFk1",
        "outputId": "6825fe5e-ff71-4655-fea8-1b6212a96e9c"
      },
      "execution_count": null,
      "outputs": [
        {
          "output_type": "stream",
          "name": "stdout",
          "text": [
            "5050\n"
          ]
        }
      ]
    },
    {
      "cell_type": "code",
      "source": [
        "#9. Elabore um algoritmo que solicite ao usuário um número inteiro que indicará a quantidadede vezes que o texto\n",
        "#\"Hello World!\" será impresso na tela, um em cada linha.\n",
        "quantity_impressao = int(input(\"Digite impressões desejada  \"))\n",
        "for item in range(1, quantity_impressao):\n",
        "  print(\"Hello World!\")"
      ],
      "metadata": {
        "colab": {
          "base_uri": "https://localhost:8080/"
        },
        "id": "scbBIXVkmDuJ",
        "outputId": "29e833cf-ad45-48b0-9d49-cbbe3ac0abed"
      },
      "execution_count": null,
      "outputs": [
        {
          "output_type": "stream",
          "name": "stdout",
          "text": [
            "Digite impressões desejada  29\n",
            "Hello World!\n",
            "Hello World!\n",
            "Hello World!\n",
            "Hello World!\n",
            "Hello World!\n",
            "Hello World!\n",
            "Hello World!\n",
            "Hello World!\n",
            "Hello World!\n",
            "Hello World!\n",
            "Hello World!\n",
            "Hello World!\n",
            "Hello World!\n",
            "Hello World!\n",
            "Hello World!\n",
            "Hello World!\n",
            "Hello World!\n",
            "Hello World!\n",
            "Hello World!\n",
            "Hello World!\n",
            "Hello World!\n",
            "Hello World!\n",
            "Hello World!\n",
            "Hello World!\n",
            "Hello World!\n",
            "Hello World!\n",
            "Hello World!\n",
            "Hello World!\n"
          ]
        }
      ]
    },
    {
      "cell_type": "code",
      "source": [
        "#10. Elabore um algoritmo que solicite ao usuário uma palavra e um número inteiro queindicará a quantidade de\n",
        "#vezes que a palavra digitada será impressa na tela, um em cadalinha.\n",
        "variavel_palavra = str(input(\"Digite uma palavra/texto  \"))\n",
        "variavel_numero = int(input(\"Digite o numero de vezes de impressão  \"))\n",
        "for item in range(1, variavel_numero):\n",
        "  print(variavel_palavra)"
      ],
      "metadata": {
        "colab": {
          "base_uri": "https://localhost:8080/"
        },
        "id": "vec-cVDGmBIh",
        "outputId": "3fcf895a-6499-46a5-b4f9-90cf1a263acf"
      },
      "execution_count": null,
      "outputs": [
        {
          "output_type": "stream",
          "name": "stdout",
          "text": [
            "Digite uma palavra/texto  Ola mundo\n",
            "Digite o numero de vezes de impressão  20\n",
            "Ola mundo\n",
            "Ola mundo\n",
            "Ola mundo\n",
            "Ola mundo\n",
            "Ola mundo\n",
            "Ola mundo\n",
            "Ola mundo\n",
            "Ola mundo\n",
            "Ola mundo\n",
            "Ola mundo\n",
            "Ola mundo\n",
            "Ola mundo\n",
            "Ola mundo\n",
            "Ola mundo\n",
            "Ola mundo\n",
            "Ola mundo\n",
            "Ola mundo\n",
            "Ola mundo\n",
            "Ola mundo\n"
          ]
        }
      ]
    },
    {
      "cell_type": "code",
      "source": [
        "#11. Elabore um algoritmo que leia um número de entrada que indicará a quantidade de números a serem lidos.\n",
        "#Em seguida, leia n números (conforme o valor informado anteriormente) e imprima a soma e a média aritmética\n",
        "#dos números informados.\n",
        "soma = 0\n",
        "numeros_a_serem_lidos = int(input(\"Digite a quantidade de números a serem lidos  \"))\n",
        "for item in range(0, numeros_a_serem_lidos):\n",
        "  soma += numeros_a_serem_lidos\n",
        "media = soma / numeros_a_serem_lidos\n",
        "print(soma)\n",
        "print(media)"
      ],
      "metadata": {
        "colab": {
          "base_uri": "https://localhost:8080/"
        },
        "id": "31aZEDN4l_QZ",
        "outputId": "ce56b5c4-31aa-4ad4-f3d6-79d55f12011d"
      },
      "execution_count": null,
      "outputs": [
        {
          "output_type": "stream",
          "name": "stdout",
          "text": [
            "Digite a quantidade de números a serem lidos  20\n",
            "400\n",
            "20.0\n"
          ]
        }
      ]
    },
    {
      "cell_type": "code",
      "source": [
        "#12. Elabore um algoritmo que leia um número de entrada que indicará a quantidade de registros a serem lidos (N).\n",
        "#Em seguida algoritmo deve solicitar o nome e idade de N pessoas e ao final apresentar o nome da pessoa mais velha.\n",
        "lista_de_clientes = {}\n",
        "registros_qant = int(input(\"Digite a quantidade de registros a serem lidos  \"))\n",
        "contagem_de_inputs = 0\n",
        "while True:\n",
        "  nome_var = str(input(\"Digite seu nome:  \"))\n",
        "  idade_var = int(input(\"Digite sua idade:  \"))\n",
        "  lista_de_clientes[nome_var] = idade_var\n",
        "  contagem_de_inputs += 1\n",
        "  if contagem_de_inputs == registros_qant:\n",
        "    break\n",
        "  else:\n",
        "    continue\n",
        "pessoas_com_idades_maximas = [nome for x_pessoa, idade in lista_de_clientes.items() if idade == max(lista_de_clientes.values())]\n",
        "print(\"As pessoas mais velhas são:\", ', '.join(idades_maximas))"
      ],
      "metadata": {
        "colab": {
          "base_uri": "https://localhost:8080/"
        },
        "id": "4o0sb_Xyl9_c",
        "outputId": "9b594511-b458-4ca6-fc3e-b6cce1b726a0"
      },
      "execution_count": null,
      "outputs": [
        {
          "output_type": "stream",
          "name": "stdout",
          "text": [
            "Digite a quantidade de registros a serem lidos  2\n",
            "Digite seu nome:  vtior\n",
            "Digite sua idade:  18\n",
            "Digite seu nome:  renato\n",
            "Digite sua idade:  18\n",
            "As pessoas mais velhas são: vitor, renato\n"
          ]
        }
      ]
    },
    {
      "cell_type": "code",
      "source": [
        "#Metodo de formatação\n",
        "nome = str(\"Renato\")\n",
        "idade = int(18)\n",
        "print(f\"{nome} {idade}\")"
      ],
      "metadata": {
        "colab": {
          "base_uri": "https://localhost:8080/"
        },
        "id": "wysIQr-815y3",
        "outputId": "c07fefef-0cf9-41e1-812d-78296525640f"
      },
      "execution_count": null,
      "outputs": [
        {
          "output_type": "stream",
          "name": "stdout",
          "text": [
            "Renato 18\n"
          ]
        }
      ]
    },
    {
      "cell_type": "code",
      "source": [
        "#13. Elabore um algoritmo que leia um número de entrada que indicará a quantidade de registros a serem lidos (N).\n",
        "#Em seguida algoritmo deve solicitar o sexo (M/F) e idade de Npessoas e ao final apresentar a média de idade de\n",
        "#ambos os gêneros catalogados.\n",
        "machos = 0\n",
        "femeas = 0\n",
        "soma_idade_machos = 0\n",
        "soma_idade_femeas = 0\n",
        "N_reg = int(input(\"Digite a quantidade de registros a serem lidos  \"))\n",
        "for item in range(0, N_reg):\n",
        "  sexo = input(\"Digite o sexo (M/F): \").lower()\n",
        "  idade = int(input(\"Digite a idade da pessoa  \"))\n",
        "  if sexo == \"m\":\n",
        "    machos += 1\n",
        "    soma_idade_machos += idade\n",
        "  elif sexo == \"f\":\n",
        "    femeas += 1\n",
        "    soma_idade_femeas += idade\n",
        "  else:\n",
        "    print(\"Digite M(masculino) ou F(feminino)\")\n",
        "if machos > 0:\n",
        "    media_de_idade_M = soma_idade_machos / machos\n",
        "else:\n",
        "    media_de_idade_M = 0\n",
        "if femeas > 0:\n",
        "    media_de_idade_F = soma_idade_femeas / femeas\n",
        "else:\n",
        "    media_de_idade_F = 0\n",
        "print(\"A idade media dos homens é {:.2f} e das mulheres é {:.2f}\".format(media_de_idade_M, media_de_idade_F))"
      ],
      "metadata": {
        "colab": {
          "base_uri": "https://localhost:8080/"
        },
        "id": "R8B6-3izl7ie",
        "outputId": "140ec921-1d6d-4463-dcf9-d86bcef892c5"
      },
      "execution_count": null,
      "outputs": [
        {
          "output_type": "stream",
          "name": "stdout",
          "text": [
            "Digite a quantidade de registros a serem lidos  2\n",
            "Digite o sexo (M/F): m\n",
            "Digite a idade da pessoa  18\n",
            "Digite o sexo (M/F): m\n",
            "Digite a idade da pessoa  40\n",
            "A idade media dos homens é 29.00 e das mulheres é 0.00\n"
          ]
        }
      ]
    },
    {
      "cell_type": "code",
      "source": [
        "#14. Elabore um algoritmo que solicite ao usuário 10 números reais e ao final apresente o maior e o menor deles.\n",
        "lista_de_numeros = []\n",
        "print(\"Digite 10 numeros incluidos em reais\")\n",
        "for item in range(0, 10):\n",
        "  numeros_reais = float(input(\"Digite um numero  \"))\n",
        "  lista_de_numeros.append(numeros_reais)\n",
        "maior_numero = float(\"-inf\")\n",
        "menor_numero = float(\"inf\")\n",
        "for numero in lista_de_numeros:\n",
        "  if numero > maior_numero:\n",
        "    maior_numero = numero\n",
        "  if numero < menor_numero:\n",
        "    menor_numero = numero\n",
        "print(\"O maior numero é {} e o menor numero é {}\".format(maior_numero, menor_numero))\n",
        "#imcompleto"
      ],
      "metadata": {
        "colab": {
          "base_uri": "https://localhost:8080/"
        },
        "id": "0xrsluc7l4S8",
        "outputId": "69a64de2-8fd0-4ac9-d736-c163acaca4b6"
      },
      "execution_count": null,
      "outputs": [
        {
          "output_type": "stream",
          "name": "stdout",
          "text": [
            "Digite 10 numeros incluidos em reais\n",
            "Digite um numero  10\n",
            "Digite um numero  40\n",
            "Digite um numero  20\n",
            "Digite um numero  50\n",
            "Digite um numero  20\n",
            "Digite um numero  10\n",
            "Digite um numero  20\n",
            "Digite um numero  70\n",
            "Digite um numero  40\n",
            "Digite um numero  60\n",
            "O maior numero é 70.0 e o menor numero é 10.0\n"
          ]
        }
      ]
    },
    {
      "cell_type": "code",
      "source": [
        "#15. Elabore um algoritmo que solicite N números reais e quando o usuário informar o valor nulo 0 (zero) o\n",
        "#programa ordene e mostre todos os números informados de forma crescente.\n",
        "lista_de_numeros_reais = []\n",
        "while True:\n",
        "  N = float(input(\"Digite um numero real (0 para mostar ordem)  \"))\n",
        "  lista_de_numeros_reais.append(N)\n",
        "  if N == 0:\n",
        "    break\n",
        "lista_de_numeros_reais.sort()\n",
        "for real in lista_de_numeros_reais:\n",
        "  if int(real) == real:\n",
        "    print(\"{:.0f}\".format(real), end=\" \")\n",
        "  else:\n",
        "    print(real, end=\" \")\n",
        "#imcompleto"
      ],
      "metadata": {
        "colab": {
          "base_uri": "https://localhost:8080/"
        },
        "id": "DcAF4hiWl2kd",
        "outputId": "1d473445-1a64-45b7-826c-8cd3d92110f7"
      },
      "execution_count": null,
      "outputs": [
        {
          "output_type": "stream",
          "name": "stdout",
          "text": [
            "Digite um numero real (0 para mostar ordem)  4.2\n",
            "Digite um numero real (0 para mostar ordem)  7.793\n",
            "Digite um numero real (0 para mostar ordem)  3.14\n",
            "Digite um numero real (0 para mostar ordem)  0\n",
            "0 3.14 4.2 7.793 "
          ]
        }
      ]
    },
    {
      "cell_type": "code",
      "source": [
        "#16. Escreva um programa que vá solicitando as idades dos alunos da sala até que todos sejam\n",
        "#informados (perguntar ao usuário se deseja informar a idade do próximo aluno).\n",
        "#Ao final apresentar a idade do mais novo, a idade do mais velho, Quantos alunos têm mais de18 anos,\n",
        "#quantos alunos têm até 18 anos, a média aritmética e a mediana.\n",
        "lista_alunos = []\n",
        "alunos_18plus = 0\n",
        "alunos_18or_minus = 0\n",
        "soma_idades = 0\n",
        "while True:\n",
        "  idades = int(input(\"Digite sua idade  \"))\n",
        "  lista_alunos.append(idades)\n",
        "  continuar_cmd = str(input(\"Deseja continuar a informar as idades?(sim/nao)  \"))\n",
        "  if continuar_cmd == \"nao\":\n",
        "    break\n",
        "  soma_idades += idades\n",
        "for aluno in lista_alunos:\n",
        "  mais_novo = min(lista_alunos)\n",
        "  mais_velho = max(lista_alunos)\n",
        "  if aluno > 18:\n",
        "    alunos_18plus += 1\n",
        "  elif aluno <= 18:\n",
        "    alunos_18or_minus += 1\n",
        "quantidade_de_alunos = len(lista_alunos)\n",
        "media = soma_idades / quantidade_de_alunos\n",
        "lista_alunos.sort()\n",
        "meio = quantidade_de_alunos // 2\n",
        "if quantidade_de_alunos % 2 == 1:\n",
        "  mediana = lista_alunos[quantidade_de_alunos // 2]\n",
        "else:\n",
        "    mediana = (lista_alunos[quantidade_de_alunos // 2 - 1] + lista_alunos[quantidade_de_alunos // 2]) / 2\n",
        "#imcompleto"
      ],
      "metadata": {
        "colab": {
          "base_uri": "https://localhost:8080/"
        },
        "id": "7wL9oSWil0XW",
        "outputId": "e882542f-27e6-495a-e1d8-c0c70cd44ccd"
      },
      "execution_count": null,
      "outputs": [
        {
          "name": "stdout",
          "output_type": "stream",
          "text": [
            "Digite sua idade  17\n",
            "Deseja continuar a informar as idades?(sim/nao)  sim\n",
            "Digite sua idade  40\n",
            "Deseja continuar a informar as idades?(sim/nao)  sim\n",
            "Digite sua idade  21\n",
            "Deseja continuar a informar as idades?(sim/nao)  sim\n",
            "Digite sua idade  40\n",
            "Deseja continuar a informar as idades?(sim/nao)  nao\n"
          ]
        }
      ]
    }
  ]
}